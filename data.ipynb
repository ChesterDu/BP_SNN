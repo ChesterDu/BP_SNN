{
 "metadata": {
  "language_info": {
   "codemirror_mode": {
    "name": "ipython",
    "version": 3
   },
   "file_extension": ".py",
   "mimetype": "text/x-python",
   "name": "python",
   "nbconvert_exporter": "python",
   "pygments_lexer": "ipython3",
   "version": "3.6.12-final"
  },
  "orig_nbformat": 2,
  "kernelspec": {
   "name": "python3",
   "display_name": "Python 3.6.12 64-bit ('contras_sum': conda)",
   "metadata": {
    "interpreter": {
     "hash": "8cb9d025c05246ef6003f562bd78c39f89a3e3de8b2c6293d42fd24001b7bf88"
    }
   }
  }
 },
 "nbformat": 4,
 "nbformat_minor": 2,
 "cells": [
  {
   "cell_type": "code",
   "execution_count": 1,
   "metadata": {
    "tags": [
     "outputPrepend"
    ]
   },
   "outputs": [
    {
     "output_type": "stream",
     "name": "stdout",
     "text": [
      "IT/train/dr8/mmpm0/si1061.wav  \n",
      "  inflating: Spike TIMIT/train/dr8/mmpm0/si1061.wrd  \n",
      "  inflating: Spike TIMIT/train/dr8/mmpm0/si1061_binary_matrix.mat  \n",
      "  inflating: Spike TIMIT/train/dr8/mmpm0/si1061_spike_timing.mat  \n",
      "  inflating: Spike TIMIT/train/dr8/mmpm0/si1691.phn  \n",
      "  inflating: Spike TIMIT/train/dr8/mmpm0/si1691.txt  \n",
      "  inflating: Spike TIMIT/train/dr8/mmpm0/si1691.wav  \n",
      "  inflating: Spike TIMIT/train/dr8/mmpm0/si1691.wrd  \n",
      "  inflating: Spike TIMIT/train/dr8/mmpm0/si1691_binary_matrix.mat  \n",
      "  inflating: Spike TIMIT/train/dr8/mmpm0/si1691_spike_timing.mat  \n",
      "  inflating: Spike TIMIT/train/dr8/mmpm0/si2321.phn  \n",
      "  inflating: Spike TIMIT/train/dr8/mmpm0/si2321.txt  \n",
      "  inflating: Spike TIMIT/train/dr8/mmpm0/si2321.wav  \n",
      "  inflating: Spike TIMIT/train/dr8/mmpm0/si2321.wrd  \n",
      "  inflating: Spike TIMIT/train/dr8/mmpm0/si2321_binary_matrix.mat  \n",
      "  inflating: Spike TIMIT/train/dr8/mmpm0/si2321_spike_timing.mat  \n",
      "  inflating: Spike TIMIT/train/dr8/mmpm0/sx161.phn  \n",
      "  inflating: Spike TIMIT/train/dr8/mmpm0/sx161.txt  \n",
      "  inflating: Spike TIMIT/train/dr8/mmpm0/sx161.wav  \n",
      "  inflating: Spike TIMIT/train/dr8/mmpm0/sx161.wrd  \n",
      "  inflating: Spike TIMIT/train/dr8/mmpm0/sx161_binary_matrix.mat  \n",
      "  inflating: Spike TIMIT/train/dr8/mmpm0/sx161_spike_timing.mat  \n",
      "  inflating: Spike TIMIT/train/dr8/mmpm0/sx251.phn  \n",
      "  inflating: Spike TIMIT/train/dr8/mmpm0/sx251.txt  \n",
      "  inflating: Spike TIMIT/train/dr8/mmpm0/sx251.wav  \n",
      "  inflating: Spike TIMIT/train/dr8/mmpm0/sx251.wrd  \n",
      "  inflating: Spike TIMIT/train/dr8/mmpm0/sx251_binary_matrix.mat  \n",
      "  inflating: Spike TIMIT/train/dr8/mmpm0/sx251_spike_timing.mat  \n",
      "  inflating: Spike TIMIT/train/dr8/mmpm0/sx341.phn  \n",
      "  inflating: Spike TIMIT/train/dr8/mmpm0/sx341.txt  \n",
      "  inflating: Spike TIMIT/train/dr8/mmpm0/sx341.wav  \n",
      "  inflating: Spike TIMIT/train/dr8/mmpm0/sx341.wrd  \n",
      "  inflating: Spike TIMIT/train/dr8/mmpm0/sx341_binary_matrix.mat  \n",
      "  inflating: Spike TIMIT/train/dr8/mmpm0/sx341_spike_timing.mat  \n",
      "  inflating: Spike TIMIT/train/dr8/mmpm0/sx431.phn  \n",
      "  inflating: Spike TIMIT/train/dr8/mmpm0/sx431.txt  \n",
      "  inflating: Spike TIMIT/train/dr8/mmpm0/sx431.wav  \n",
      "  inflating: Spike TIMIT/train/dr8/mmpm0/sx431.wrd  \n",
      "  inflating: Spike TIMIT/train/dr8/mmpm0/sx431_binary_matrix.mat  \n",
      "  inflating: Spike TIMIT/train/dr8/mmpm0/sx431_spike_timing.mat  \n",
      "  inflating: Spike TIMIT/train/dr8/mmpm0/sx71.phn  \n",
      "  inflating: Spike TIMIT/train/dr8/mmpm0/sx71.txt  \n",
      "  inflating: Spike TIMIT/train/dr8/mmpm0/sx71.wav  \n",
      "  inflating: Spike TIMIT/train/dr8/mmpm0/sx71.wrd  \n",
      "  inflating: Spike TIMIT/train/dr8/mmpm0/sx71_binary_matrix.mat  \n",
      "  inflating: Spike TIMIT/train/dr8/mmpm0/sx71_spike_timing.mat  \n",
      "   creating: Spike TIMIT/train/dr8/mmws0/\n",
      "  inflating: Spike TIMIT/train/dr8/mmws0/sa1.phn  \n",
      "  inflating: Spike TIMIT/train/dr8/mmws0/sa1.txt  \n",
      "  inflating: Spike TIMIT/train/dr8/mmws0/sa1.wav  \n",
      "  inflating: Spike TIMIT/train/dr8/mmws0/sa1.wrd  \n",
      "  inflating: Spike TIMIT/train/dr8/mmws0/sa1_binary_matrix.mat  \n",
      "  inflating: Spike TIMIT/train/dr8/mmws0/sa1_spike_timing.mat  \n",
      "  inflating: Spike TIMIT/train/dr8/mmws0/sa2.phn  \n",
      "  inflating: Spike TIMIT/train/dr8/mmws0/sa2.txt  \n",
      "  inflating: Spike TIMIT/train/dr8/mmws0/sa2.wav  \n",
      "  inflating: Spike TIMIT/train/dr8/mmws0/sa2.wrd  \n",
      "  inflating: Spike TIMIT/train/dr8/mmws0/sa2_binary_matrix.mat  \n",
      "  inflating: Spike TIMIT/train/dr8/mmws0/sa2_spike_timing.mat  \n",
      "  inflating: Spike TIMIT/train/dr8/mmws0/si1518.phn  \n",
      "  inflating: Spike TIMIT/train/dr8/mmws0/si1518.txt  \n",
      "  inflating: Spike TIMIT/train/dr8/mmws0/si1518.wav  \n",
      "  inflating: Spike TIMIT/train/dr8/mmws0/si1518.wrd  \n",
      "  inflating: Spike TIMIT/train/dr8/mmws0/si1518_binary_matrix.mat  \n",
      "  inflating: Spike TIMIT/train/dr8/mmws0/si1518_spike_timing.mat  \n",
      "  inflating: Spike TIMIT/train/dr8/mmws0/si559.phn  \n",
      "  inflating: Spike TIMIT/train/dr8/mmws0/si559.txt  \n",
      "  inflating: Spike TIMIT/train/dr8/mmws0/si559.wav  \n",
      "  inflating: Spike TIMIT/train/dr8/mmws0/si559.wrd  \n",
      "  inflating: Spike TIMIT/train/dr8/mmws0/si559_binary_matrix.mat  \n",
      "  inflating: Spike TIMIT/train/dr8/mmws0/si559_spike_timing.mat  \n",
      "  inflating: Spike TIMIT/train/dr8/mmws0/si888.phn  \n",
      "  inflating: Spike TIMIT/train/dr8/mmws0/si888.txt  \n",
      "  inflating: Spike TIMIT/train/dr8/mmws0/si888.wav  \n",
      "  inflating: Spike TIMIT/train/dr8/mmws0/si888.wrd  \n",
      "  inflating: Spike TIMIT/train/dr8/mmws0/si888_binary_matrix.mat  \n",
      "  inflating: Spike TIMIT/train/dr8/mmws0/si888_spike_timing.mat  \n",
      "  inflating: Spike TIMIT/train/dr8/mmws0/sx168.phn  \n",
      "  inflating: Spike TIMIT/train/dr8/mmws0/sx168.txt  \n",
      "  inflating: Spike TIMIT/train/dr8/mmws0/sx168.wav  \n",
      "  inflating: Spike TIMIT/train/dr8/mmws0/sx168.wrd  \n",
      "  inflating: Spike TIMIT/train/dr8/mmws0/sx168_binary_matrix.mat  \n",
      "  inflating: Spike TIMIT/train/dr8/mmws0/sx168_spike_timing.mat  \n",
      "  inflating: Spike TIMIT/train/dr8/mmws0/sx258.phn  \n",
      "  inflating: Spike TIMIT/train/dr8/mmws0/sx258.txt  \n",
      "  inflating: Spike TIMIT/train/dr8/mmws0/sx258.wav  \n",
      "  inflating: Spike TIMIT/train/dr8/mmws0/sx258.wrd  \n",
      "  inflating: Spike TIMIT/train/dr8/mmws0/sx258_binary_matrix.mat  \n",
      "  inflating: Spike TIMIT/train/dr8/mmws0/sx258_spike_timing.mat  \n",
      "  inflating: Spike TIMIT/train/dr8/mmws0/sx348.phn  \n",
      "  inflating: Spike TIMIT/train/dr8/mmws0/sx348.txt  \n",
      "  inflating: Spike TIMIT/train/dr8/mmws0/sx348.wav  \n",
      "  inflating: Spike TIMIT/train/dr8/mmws0/sx348.wrd  \n",
      "  inflating: Spike TIMIT/train/dr8/mmws0/sx348_binary_matrix.mat  \n",
      "  inflating: Spike TIMIT/train/dr8/mmws0/sx348_spike_timing.mat  \n",
      "  inflating: Spike TIMIT/train/dr8/mmws0/sx438.phn  \n",
      "  inflating: Spike TIMIT/train/dr8/mmws0/sx438.txt  \n",
      "  inflating: Spike TIMIT/train/dr8/mmws0/sx438.wav  \n",
      "  inflating: Spike TIMIT/train/dr8/mmws0/sx438.wrd  \n",
      "  inflating: Spike TIMIT/train/dr8/mmws0/sx438_binary_matrix.mat  \n",
      "  inflating: Spike TIMIT/train/dr8/mmws0/sx438_spike_timing.mat  \n",
      "  inflating: Spike TIMIT/train/dr8/mmws0/sx78.phn  \n",
      "  inflating: Spike TIMIT/train/dr8/mmws0/sx78.txt  \n",
      "  inflating: Spike TIMIT/train/dr8/mmws0/sx78.wav  \n",
      "  inflating: Spike TIMIT/train/dr8/mmws0/sx78.wrd  \n",
      "  inflating: Spike TIMIT/train/dr8/mmws0/sx78_binary_matrix.mat  \n",
      "  inflating: Spike TIMIT/train/dr8/mmws0/sx78_spike_timing.mat  \n",
      "   creating: Spike TIMIT/train/dr8/mrdm0/\n",
      "  inflating: Spike TIMIT/train/dr8/mrdm0/sa1.phn  \n",
      "  inflating: Spike TIMIT/train/dr8/mrdm0/sa1.txt  \n",
      "  inflating: Spike TIMIT/train/dr8/mrdm0/sa1.wav  \n",
      "  inflating: Spike TIMIT/train/dr8/mrdm0/sa1.wrd  \n",
      "  inflating: Spike TIMIT/train/dr8/mrdm0/sa1_binary_matrix.mat  \n",
      "  inflating: Spike TIMIT/train/dr8/mrdm0/sa1_spike_timing.mat  \n",
      "  inflating: Spike TIMIT/train/dr8/mrdm0/sa2.phn  \n",
      "  inflating: Spike TIMIT/train/dr8/mrdm0/sa2.txt  \n",
      "  inflating: Spike TIMIT/train/dr8/mrdm0/sa2.wav  \n",
      "  inflating: Spike TIMIT/train/dr8/mrdm0/sa2.wrd  \n",
      "  inflating: Spike TIMIT/train/dr8/mrdm0/sa2_binary_matrix.mat  \n",
      "  inflating: Spike TIMIT/train/dr8/mrdm0/sa2_spike_timing.mat  \n",
      "  inflating: Spike TIMIT/train/dr8/mrdm0/si1044.phn  \n",
      "  inflating: Spike TIMIT/train/dr8/mrdm0/si1044.txt  \n",
      "  inflating: Spike TIMIT/train/dr8/mrdm0/si1044.wav  \n",
      "  inflating: Spike TIMIT/train/dr8/mrdm0/si1044.wrd  \n",
      "  inflating: Spike TIMIT/train/dr8/mrdm0/si1044_binary_matrix.mat  \n",
      "  inflating: Spike TIMIT/train/dr8/mrdm0/si1044_spike_timing.mat  \n",
      "  inflating: Spike TIMIT/train/dr8/mrdm0/si1595.phn  \n",
      "  inflating: Spike TIMIT/train/dr8/mrdm0/si1595.txt  \n",
      "  inflating: Spike TIMIT/train/dr8/mrdm0/si1595.wav  \n",
      "  inflating: Spike TIMIT/train/dr8/mrdm0/si1595.wrd  \n",
      "  inflating: Spike TIMIT/train/dr8/mrdm0/si1595_binary_matrix.mat  \n",
      "  inflating: Spike TIMIT/train/dr8/mrdm0/si1595_spike_timing.mat  \n",
      "  inflating: Spike TIMIT/train/dr8/mrdm0/si965.phn  \n",
      "  inflating: Spike TIMIT/train/dr8/mrdm0/si965.txt  \n",
      "  inflating: Spike TIMIT/train/dr8/mrdm0/si965.wav  \n",
      "  inflating: Spike TIMIT/train/dr8/mrdm0/si965.wrd  \n",
      "  inflating: Spike TIMIT/train/dr8/mrdm0/si965_binary_matrix.mat  \n",
      "  inflating: Spike TIMIT/train/dr8/mrdm0/si965_spike_timing.mat  \n",
      "  inflating: Spike TIMIT/train/dr8/mrdm0/sx155.phn  \n",
      "  inflating: Spike TIMIT/train/dr8/mrdm0/sx155.txt  \n",
      "  inflating: Spike TIMIT/train/dr8/mrdm0/sx155.wav  \n",
      "  inflating: Spike TIMIT/train/dr8/mrdm0/sx155.wrd  \n",
      "  inflating: Spike TIMIT/train/dr8/mrdm0/sx155_binary_matrix.mat  \n",
      "  inflating: Spike TIMIT/train/dr8/mrdm0/sx155_spike_timing.mat  \n",
      "  inflating: Spike TIMIT/train/dr8/mrdm0/sx245.phn  \n",
      "  inflating: Spike TIMIT/train/dr8/mrdm0/sx245.txt  \n",
      "  inflating: Spike TIMIT/train/dr8/mrdm0/sx245.wav  \n",
      "  inflating: Spike TIMIT/train/dr8/mrdm0/sx245.wrd  \n",
      "  inflating: Spike TIMIT/train/dr8/mrdm0/sx245_binary_matrix.mat  \n",
      "  inflating: Spike TIMIT/train/dr8/mrdm0/sx245_spike_timing.mat  \n",
      "  inflating: Spike TIMIT/train/dr8/mrdm0/sx335.phn  \n",
      "  inflating: Spike TIMIT/train/dr8/mrdm0/sx335.txt  \n",
      "  inflating: Spike TIMIT/train/dr8/mrdm0/sx335.wav  \n",
      "  inflating: Spike TIMIT/train/dr8/mrdm0/sx335.wrd  \n",
      "  inflating: Spike TIMIT/train/dr8/mrdm0/sx335_binary_matrix.mat  \n",
      "  inflating: Spike TIMIT/train/dr8/mrdm0/sx335_spike_timing.mat  \n",
      "  inflating: Spike TIMIT/train/dr8/mrdm0/sx425.phn  \n",
      "  inflating: Spike TIMIT/train/dr8/mrdm0/sx425.txt  \n",
      "  inflating: Spike TIMIT/train/dr8/mrdm0/sx425.wav  \n",
      "  inflating: Spike TIMIT/train/dr8/mrdm0/sx425.wrd  \n",
      "  inflating: Spike TIMIT/train/dr8/mrdm0/sx425_binary_matrix.mat  \n",
      "  inflating: Spike TIMIT/train/dr8/mrdm0/sx425_spike_timing.mat  \n",
      "  inflating: Spike TIMIT/train/dr8/mrdm0/sx65.phn  \n",
      "  inflating: Spike TIMIT/train/dr8/mrdm0/sx65.txt  \n",
      "  inflating: Spike TIMIT/train/dr8/mrdm0/sx65.wav  \n",
      "  inflating: Spike TIMIT/train/dr8/mrdm0/sx65.wrd  \n",
      "  inflating: Spike TIMIT/train/dr8/mrdm0/sx65_binary_matrix.mat  \n",
      "  inflating: Spike TIMIT/train/dr8/mrdm0/sx65_spike_timing.mat  \n",
      "   creating: Spike TIMIT/train/dr8/mrlk0/\n",
      "  inflating: Spike TIMIT/train/dr8/mrlk0/sa1.phn  \n",
      "  inflating: Spike TIMIT/train/dr8/mrlk0/sa1.txt  \n",
      "  inflating: Spike TIMIT/train/dr8/mrlk0/sa1.wav  \n",
      "  inflating: Spike TIMIT/train/dr8/mrlk0/sa1.wrd  \n",
      "  inflating: Spike TIMIT/train/dr8/mrlk0/sa1_binary_matrix.mat  \n",
      "  inflating: Spike TIMIT/train/dr8/mrlk0/sa1_spike_timing.mat  \n",
      "  inflating: Spike TIMIT/train/dr8/mrlk0/sa2.phn  \n",
      "  inflating: Spike TIMIT/train/dr8/mrlk0/sa2.txt  \n",
      "  inflating: Spike TIMIT/train/dr8/mrlk0/sa2.wav  \n",
      "  inflating: Spike TIMIT/train/dr8/mrlk0/sa2.wrd  \n",
      "  inflating: Spike TIMIT/train/dr8/mrlk0/sa2_binary_matrix.mat  \n",
      "  inflating: Spike TIMIT/train/dr8/mrlk0/sa2_spike_timing.mat  \n",
      "  inflating: Spike TIMIT/train/dr8/mrlk0/si1468.phn  \n",
      "  inflating: Spike TIMIT/train/dr8/mrlk0/si1468.txt  \n",
      "  inflating: Spike TIMIT/train/dr8/mrlk0/si1468.wav  \n",
      "  inflating: Spike TIMIT/train/dr8/mrlk0/si1468.wrd  \n",
      "  inflating: Spike TIMIT/train/dr8/mrlk0/si1468_binary_matrix.mat  \n",
      "  inflating: Spike TIMIT/train/dr8/mrlk0/si1468_spike_timing.mat  \n",
      "  inflating: Spike TIMIT/train/dr8/mrlk0/si2140.phn  \n",
      "  inflating: Spike TIMIT/train/dr8/mrlk0/si2140.txt  \n",
      "  inflating: Spike TIMIT/train/dr8/mrlk0/si2140.wav  \n",
      "  inflating: Spike TIMIT/train/dr8/mrlk0/si2140.wrd  \n",
      "  inflating: Spike TIMIT/train/dr8/mrlk0/si2140_binary_matrix.mat  \n",
      "  inflating: Spike TIMIT/train/dr8/mrlk0/si2140_spike_timing.mat  \n",
      "  inflating: Spike TIMIT/train/dr8/mrlk0/si843.phn  \n",
      "  inflating: Spike TIMIT/train/dr8/mrlk0/si843.txt  \n",
      "  inflating: Spike TIMIT/train/dr8/mrlk0/si843.wav  \n",
      "  inflating: Spike TIMIT/train/dr8/mrlk0/si843.wrd  \n",
      "  inflating: Spike TIMIT/train/dr8/mrlk0/si843_binary_matrix.mat  \n",
      "  inflating: Spike TIMIT/train/dr8/mrlk0/si843_spike_timing.mat  \n",
      "  inflating: Spike TIMIT/train/dr8/mrlk0/sx123.phn  \n",
      "  inflating: Spike TIMIT/train/dr8/mrlk0/sx123.txt  \n",
      "  inflating: Spike TIMIT/train/dr8/mrlk0/sx123.wav  \n",
      "  inflating: Spike TIMIT/train/dr8/mrlk0/sx123.wrd  \n",
      "  inflating: Spike TIMIT/train/dr8/mrlk0/sx123_binary_matrix.mat  \n",
      "  inflating: Spike TIMIT/train/dr8/mrlk0/sx123_spike_timing.mat  \n",
      "  inflating: Spike TIMIT/train/dr8/mrlk0/sx213.phn  \n",
      "  inflating: Spike TIMIT/train/dr8/mrlk0/sx213.txt  \n",
      "  inflating: Spike TIMIT/train/dr8/mrlk0/sx213.wav  \n",
      "  inflating: Spike TIMIT/train/dr8/mrlk0/sx213.wrd  \n",
      "  inflating: Spike TIMIT/train/dr8/mrlk0/sx213_binary_matrix.mat  \n",
      "  inflating: Spike TIMIT/train/dr8/mrlk0/sx213_spike_timing.mat  \n",
      "  inflating: Spike TIMIT/train/dr8/mrlk0/sx303.phn  \n",
      "  inflating: Spike TIMIT/train/dr8/mrlk0/sx303.txt  \n",
      "  inflating: Spike TIMIT/train/dr8/mrlk0/sx303.wav  \n",
      "  inflating: Spike TIMIT/train/dr8/mrlk0/sx303.wrd  \n",
      "  inflating: Spike TIMIT/train/dr8/mrlk0/sx303_binary_matrix.mat  \n",
      "  inflating: Spike TIMIT/train/dr8/mrlk0/sx303_spike_timing.mat  \n",
      "  inflating: Spike TIMIT/train/dr8/mrlk0/sx33.phn  \n",
      "  inflating: Spike TIMIT/train/dr8/mrlk0/sx33.txt  \n",
      "  inflating: Spike TIMIT/train/dr8/mrlk0/sx33.wav  \n",
      "  inflating: Spike TIMIT/train/dr8/mrlk0/sx33.wrd  \n",
      "  inflating: Spike TIMIT/train/dr8/mrlk0/sx33_binary_matrix.mat  \n",
      "  inflating: Spike TIMIT/train/dr8/mrlk0/sx33_spike_timing.mat  \n",
      "  inflating: Spike TIMIT/train/dr8/mrlk0/sx393.phn  \n",
      "  inflating: Spike TIMIT/train/dr8/mrlk0/sx393.txt  \n",
      "  inflating: Spike TIMIT/train/dr8/mrlk0/sx393.wav  \n",
      "  inflating: Spike TIMIT/train/dr8/mrlk0/sx393.wrd  \n",
      "  inflating: Spike TIMIT/train/dr8/mrlk0/sx393_binary_matrix.mat  \n",
      "  inflating: Spike TIMIT/train/dr8/mrlk0/sx393_spike_timing.mat  \n",
      "   creating: Spike TIMIT/train/dr8/mrre0/\n",
      "  inflating: Spike TIMIT/train/dr8/mrre0/sa1.phn  \n",
      "  inflating: Spike TIMIT/train/dr8/mrre0/sa1.txt  \n",
      "  inflating: Spike TIMIT/train/dr8/mrre0/sa1.wav  \n",
      "  inflating: Spike TIMIT/train/dr8/mrre0/sa1.wrd  \n",
      "  inflating: Spike TIMIT/train/dr8/mrre0/sa1_binary_matrix.mat  \n",
      "  inflating: Spike TIMIT/train/dr8/mrre0/sa1_spike_timing.mat  \n",
      "  inflating: Spike TIMIT/train/dr8/mrre0/sa2.phn  \n",
      "  inflating: Spike TIMIT/train/dr8/mrre0/sa2.txt  \n",
      "  inflating: Spike TIMIT/train/dr8/mrre0/sa2.wav  \n",
      "  inflating: Spike TIMIT/train/dr8/mrre0/sa2.wrd  \n",
      "  inflating: Spike TIMIT/train/dr8/mrre0/sa2_binary_matrix.mat  \n",
      "  inflating: Spike TIMIT/train/dr8/mrre0/sa2_spike_timing.mat  \n",
      "  inflating: Spike TIMIT/train/dr8/mrre0/si1334.phn  \n",
      "  inflating: Spike TIMIT/train/dr8/mrre0/si1334.txt  \n",
      "  inflating: Spike TIMIT/train/dr8/mrre0/si1334.wav  \n",
      "  inflating: Spike TIMIT/train/dr8/mrre0/si1334.wrd  \n",
      "  inflating: Spike TIMIT/train/dr8/mrre0/si1334_binary_matrix.mat  \n",
      "  inflating: Spike TIMIT/train/dr8/mrre0/si1334_spike_timing.mat  \n",
      "  inflating: Spike TIMIT/train/dr8/mrre0/si704.phn  \n",
      "  inflating: Spike TIMIT/train/dr8/mrre0/si704.txt  \n",
      "  inflating: Spike TIMIT/train/dr8/mrre0/si704.wav  \n",
      "  inflating: Spike TIMIT/train/dr8/mrre0/si704.wrd  \n",
      "  inflating: Spike TIMIT/train/dr8/mrre0/si704_binary_matrix.mat  \n",
      "  inflating: Spike TIMIT/train/dr8/mrre0/si704_spike_timing.mat  \n",
      "  inflating: Spike TIMIT/train/dr8/mrre0/si952.phn  \n",
      "  inflating: Spike TIMIT/train/dr8/mrre0/si952.txt  \n",
      "  inflating: Spike TIMIT/train/dr8/mrre0/si952.wav  \n",
      "  inflating: Spike TIMIT/train/dr8/mrre0/si952.wrd  \n",
      "  inflating: Spike TIMIT/train/dr8/mrre0/si952_binary_matrix.mat  \n",
      "  inflating: Spike TIMIT/train/dr8/mrre0/si952_spike_timing.mat  \n",
      "  inflating: Spike TIMIT/train/dr8/mrre0/sx164.phn  \n",
      "  inflating: Spike TIMIT/train/dr8/mrre0/sx164.txt  \n",
      "  inflating: Spike TIMIT/train/dr8/mrre0/sx164.wav  \n",
      "  inflating: Spike TIMIT/train/dr8/mrre0/sx164.wrd  \n",
      "  inflating: Spike TIMIT/train/dr8/mrre0/sx164_binary_matrix.mat  \n",
      "  inflating: Spike TIMIT/train/dr8/mrre0/sx164_spike_timing.mat  \n",
      "  inflating: Spike TIMIT/train/dr8/mrre0/sx254.phn  \n",
      "  inflating: Spike TIMIT/train/dr8/mrre0/sx254.txt  \n",
      "  inflating: Spike TIMIT/train/dr8/mrre0/sx254.wav  \n",
      "  inflating: Spike TIMIT/train/dr8/mrre0/sx254.wrd  \n",
      "  inflating: Spike TIMIT/train/dr8/mrre0/sx254_binary_matrix.mat  \n",
      "  inflating: Spike TIMIT/train/dr8/mrre0/sx254_spike_timing.mat  \n",
      "  inflating: Spike TIMIT/train/dr8/mrre0/sx344.phn  \n",
      "  inflating: Spike TIMIT/train/dr8/mrre0/sx344.txt  \n",
      "  inflating: Spike TIMIT/train/dr8/mrre0/sx344.wav  \n",
      "  inflating: Spike TIMIT/train/dr8/mrre0/sx344.wrd  \n",
      "  inflating: Spike TIMIT/train/dr8/mrre0/sx344_binary_matrix.mat  \n",
      "  inflating: Spike TIMIT/train/dr8/mrre0/sx344_spike_timing.mat  \n",
      "  inflating: Spike TIMIT/train/dr8/mrre0/sx434.phn  \n",
      "  inflating: Spike TIMIT/train/dr8/mrre0/sx434.txt  \n",
      "  inflating: Spike TIMIT/train/dr8/mrre0/sx434.wav  \n",
      "  inflating: Spike TIMIT/train/dr8/mrre0/sx434.wrd  \n",
      "  inflating: Spike TIMIT/train/dr8/mrre0/sx434_binary_matrix.mat  \n",
      "  inflating: Spike TIMIT/train/dr8/mrre0/sx434_spike_timing.mat  \n",
      "  inflating: Spike TIMIT/train/dr8/mrre0/sx74.phn  \n",
      "  inflating: Spike TIMIT/train/dr8/mrre0/sx74.txt  \n",
      "  inflating: Spike TIMIT/train/dr8/mrre0/sx74.wav  \n",
      "  inflating: Spike TIMIT/train/dr8/mrre0/sx74.wrd  \n",
      "  inflating: Spike TIMIT/train/dr8/mrre0/sx74_binary_matrix.mat  \n",
      "  inflating: Spike TIMIT/train/dr8/mrre0/sx74_spike_timing.mat  \n",
      "   creating: Spike TIMIT/train/dr8/mtcs0/\n",
      "  inflating: Spike TIMIT/train/dr8/mtcs0/sa1.phn  \n",
      "  inflating: Spike TIMIT/train/dr8/mtcs0/sa1.txt  \n",
      "  inflating: Spike TIMIT/train/dr8/mtcs0/sa1.wav  \n",
      "  inflating: Spike TIMIT/train/dr8/mtcs0/sa1.wrd  \n",
      "  inflating: Spike TIMIT/train/dr8/mtcs0/sa1_binary_matrix.mat  \n",
      "  inflating: Spike TIMIT/train/dr8/mtcs0/sa1_spike_timing.mat  \n",
      "  inflating: Spike TIMIT/train/dr8/mtcs0/sa2.phn  \n",
      "  inflating: Spike TIMIT/train/dr8/mtcs0/sa2.txt  \n",
      "  inflating: Spike TIMIT/train/dr8/mtcs0/sa2.wav  \n",
      "  inflating: Spike TIMIT/train/dr8/mtcs0/sa2.wrd  \n",
      "  inflating: Spike TIMIT/train/dr8/mtcs0/sa2_binary_matrix.mat  \n",
      "  inflating: Spike TIMIT/train/dr8/mtcs0/sa2_spike_timing.mat  \n",
      "  inflating: Spike TIMIT/train/dr8/mtcs0/si1972.phn  \n",
      "  inflating: Spike TIMIT/train/dr8/mtcs0/si1972.txt  \n",
      "  inflating: Spike TIMIT/train/dr8/mtcs0/si1972.wav  \n",
      "  inflating: Spike TIMIT/train/dr8/mtcs0/si1972.wrd  \n",
      "  inflating: Spike TIMIT/train/dr8/mtcs0/si1972_binary_matrix.mat  \n",
      "  inflating: Spike TIMIT/train/dr8/mtcs0/si1972_spike_timing.mat  \n",
      "  inflating: Spike TIMIT/train/dr8/mtcs0/si2265.phn  \n",
      "  inflating: Spike TIMIT/train/dr8/mtcs0/si2265.txt  \n",
      "  inflating: Spike TIMIT/train/dr8/mtcs0/si2265.wav  \n",
      "  inflating: Spike TIMIT/train/dr8/mtcs0/si2265.wrd  \n",
      "  inflating: Spike TIMIT/train/dr8/mtcs0/si2265_binary_matrix.mat  \n",
      "  inflating: Spike TIMIT/train/dr8/mtcs0/si2265_spike_timing.mat  \n",
      "  inflating: Spike TIMIT/train/dr8/mtcs0/si712.phn  \n",
      "  inflating: Spike TIMIT/train/dr8/mtcs0/si712.txt  \n",
      "  inflating: Spike TIMIT/train/dr8/mtcs0/si712.wav  \n",
      "  inflating: Spike TIMIT/train/dr8/mtcs0/si712.wrd  \n",
      "  inflating: Spike TIMIT/train/dr8/mtcs0/si712_binary_matrix.mat  \n",
      "  inflating: Spike TIMIT/train/dr8/mtcs0/si712_spike_timing.mat  \n",
      "  inflating: Spike TIMIT/train/dr8/mtcs0/sx172.phn  \n",
      "  inflating: Spike TIMIT/train/dr8/mtcs0/sx172.txt  \n",
      "  inflating: Spike TIMIT/train/dr8/mtcs0/sx172.wav  \n",
      "  inflating: Spike TIMIT/train/dr8/mtcs0/sx172.wrd  \n",
      "  inflating: Spike TIMIT/train/dr8/mtcs0/sx172_binary_matrix.mat  \n",
      "  inflating: Spike TIMIT/train/dr8/mtcs0/sx172_spike_timing.mat  \n",
      "  inflating: Spike TIMIT/train/dr8/mtcs0/sx262.phn  \n",
      "  inflating: Spike TIMIT/train/dr8/mtcs0/sx262.txt  \n",
      "  inflating: Spike TIMIT/train/dr8/mtcs0/sx262.wav  \n",
      "  inflating: Spike TIMIT/train/dr8/mtcs0/sx262.wrd  \n",
      "  inflating: Spike TIMIT/train/dr8/mtcs0/sx262_binary_matrix.mat  \n",
      "  inflating: Spike TIMIT/train/dr8/mtcs0/sx262_spike_timing.mat  \n",
      "  inflating: Spike TIMIT/train/dr8/mtcs0/sx352.phn  \n",
      "  inflating: Spike TIMIT/train/dr8/mtcs0/sx352.txt  \n",
      "  inflating: Spike TIMIT/train/dr8/mtcs0/sx352.wav  \n",
      "  inflating: Spike TIMIT/train/dr8/mtcs0/sx352.wrd  \n",
      "  inflating: Spike TIMIT/train/dr8/mtcs0/sx352_binary_matrix.mat  \n",
      "  inflating: Spike TIMIT/train/dr8/mtcs0/sx352_spike_timing.mat  \n",
      "  inflating: Spike TIMIT/train/dr8/mtcs0/sx442.phn  \n",
      "  inflating: Spike TIMIT/train/dr8/mtcs0/sx442.txt  \n",
      "  inflating: Spike TIMIT/train/dr8/mtcs0/sx442.wav  \n",
      "  inflating: Spike TIMIT/train/dr8/mtcs0/sx442.wrd  \n",
      "  inflating: Spike TIMIT/train/dr8/mtcs0/sx442_binary_matrix.mat  \n",
      "  inflating: Spike TIMIT/train/dr8/mtcs0/sx442_spike_timing.mat  \n",
      "  inflating: Spike TIMIT/train/dr8/mtcs0/sx82.phn  \n",
      "  inflating: Spike TIMIT/train/dr8/mtcs0/sx82.txt  \n",
      "  inflating: Spike TIMIT/train/dr8/mtcs0/sx82.wav  \n",
      "  inflating: Spike TIMIT/train/dr8/mtcs0/sx82.wrd  \n",
      "  inflating: Spike TIMIT/train/dr8/mtcs0/sx82_binary_matrix.mat  \n",
      "  inflating: Spike TIMIT/train/dr8/mtcs0/sx82_spike_timing.mat  \n"
     ]
    }
   ],
   "source": [
    "!unzip Spike-TIMIT.zip"
   ]
  },
  {
   "cell_type": "code",
   "execution_count": 9,
   "metadata": {},
   "outputs": [],
   "source": [
    "from scipy.io import loadmat\n",
    "# m = loadmat(\"Spike-TIMIT/test/dr1/faks0/sa1_binary_matrix.mat\")\n",
    "\n"
   ]
  },
  {
   "cell_type": "code",
   "execution_count": 57,
   "metadata": {},
   "outputs": [
    {
     "output_type": "execute_result",
     "data": {
      "text/plain": [
       "(620, 793)"
      ]
     },
     "metadata": {},
     "execution_count": 57
    }
   ],
   "source": [
    "m['binary_output'].shape"
   ]
  },
  {
   "cell_type": "code",
   "execution_count": 52,
   "metadata": {
    "tags": []
   },
   "outputs": [
    {
     "output_type": "execute_result",
     "data": {
      "text/plain": [
       "0.791"
      ]
     },
     "metadata": {},
     "execution_count": 52
    }
   ],
   "source": [
    "max_time = []\n",
    "for item in m[\"spike_output\"][0]:\n",
    "    if len(item)==0:\n",
    "        continue\n",
    "    # print(item)\n",
    "    # print(max(item[0]))\n",
    "    max_time.append(max(item[0]))\n",
    "max(max_time)"
   ]
  },
  {
   "cell_type": "code",
   "execution_count": 2,
   "metadata": {
    "tags": []
   },
   "outputs": [],
   "source": [
    "import os\n",
    "def filt_file(path=\"Spike-TIMIT\"):\n",
    "    # dataset = {}\n",
    "    train_set = []\n",
    "    test_set = []\n",
    "    for d,ds,fs in os.walk(\"Spike-TIMIT\"):\n",
    "        for fname in fs:\n",
    "            if \"sa\" in fname:\n",
    "                continue\n",
    "            full_name = d + '/' + fname\n",
    "            if 'train' in full_name:\n",
    "                if '.mat' in full_name or '.phn' in full_name:\n",
    "                  train_set.append(full_name)\n",
    "            else:\n",
    "                if '.mat' in full_name or '.phn' in full_name:\n",
    "                  test_set.append(full_name)\n",
    "    \n",
    "    return train_set, test_set\n",
    "\n",
    "train_set, test_set = filt_file()"
   ]
  },
  {
   "cell_type": "code",
   "execution_count": 3,
   "metadata": {},
   "outputs": [],
   "source": [
    "def get_pair(file_name_list):\n",
    "    paris = {}\n",
    "    for fname in file_name_list:\n",
    "        id = 0\n",
    "        pattern = 0\n",
    "        if '_' in fname:\n",
    "            id, pattern = fname.split(\"_\",1)\n",
    "        else:\n",
    "            id, pattern = fname.split('.')\n",
    "\n",
    "        # print(fname,id,pattern)\n",
    "        \n",
    "        if 'phn' in pattern or 'matrix.mat' in pattern:\n",
    "\n",
    "            if id not in paris:\n",
    "                # if 'mat' in pattern or 'phn' in pattern:\n",
    "                paris[id] = {\"phn\":fname} if 'phn' in pattern else {\"mat\":fname}\n",
    "            else:\n",
    "                if 'phn' in pattern:\n",
    "                    paris[id]['phn'] = fname\n",
    "                else:\n",
    "                    paris[id]['mat'] = fname\n",
    "    \n",
    "    return paris\n",
    "        "
   ]
  },
  {
   "cell_type": "code",
   "execution_count": 5,
   "metadata": {
    "tags": []
   },
   "outputs": [],
   "source": [
    "train_file_name_set = get_pair(train_set)\n",
    "test_file_name_set = get_pair(test_set)"
   ]
  },
  {
   "cell_type": "code",
   "execution_count": 18,
   "metadata": {},
   "outputs": [],
   "source": [
    "import torch\n",
    "import tqdm\n",
    "max_time = 1600\n",
    "def make_dataset(file_name_set):\n",
    "    \n",
    "    def process_file(fmat,fphp):\n",
    "        m = loadmat(fmat)['binary_output']\n",
    "        with open(fphp,\"r\") as fin:\n",
    "            php_lines = fin.readlines()\n",
    "\n",
    "        input_pad = torch.cat([torch.ByteTensor(m),torch.ByteTensor(620,max_time-m.shape[1]).fill_(0)],dim=1)\n",
    "        y = []\n",
    "        for i, php_line in enumerate(php_lines):\n",
    "            s,e,p = php_line.split(' ')\n",
    "            s = int(s)\n",
    "            e = int(e)\n",
    "            p_id = p2id[p.strip()]\n",
    "            y += [p_id] * (int(e/100) - int(s/100))\n",
    "\n",
    "        input = input_pad.transpose(0,1).unsqueeze(0)\n",
    "        y += [62] * (max_time - len(y))\n",
    "        output = torch.LongTensor(y).unsqueeze(0)\n",
    "\n",
    "        \n",
    "        return input, output\n",
    "    i = 0\n",
    "    for id in tqdm.tqdm_notebook(file_name_set):\n",
    "        input_tensor, output_tensor= process_file(file_name_set[id]['mat'],file_name_set[id]['phn'])\n",
    "        # print(input_tensor.shape)\n",
    "        input_tensors = input_tensor if i == 0 else torch.cat([input_tensors,input_tensor],dim=0)\n",
    "        output_tensors = output_tensor if i == 0 else torch.cat([output_tensors,output_tensor],dim=0)\n",
    "        i += 1\n",
    "        # if i == 10:\n",
    "        #     break\n",
    "    \n",
    "    return input_tensors, output_tensors\n",
    "        \n",
    "\n"
   ]
  },
  {
   "cell_type": "code",
   "execution_count": 19,
   "metadata": {},
   "outputs": [
    {
     "output_type": "stream",
     "name": "stderr",
     "text": [
      "/home/nesa320/anaconda2/envs/contras_sum/lib/python3.6/site-packages/ipykernel_launcher.py:27: TqdmDeprecationWarning: This function will be removed in tqdm==5.0.0\nPlease use `tqdm.notebook.tqdm` instead of `tqdm.tqdm_notebook`\n"
     ]
    },
    {
     "output_type": "display_data",
     "data": {
      "text/plain": "HBox(children=(HTML(value=''), FloatProgress(value=0.0, max=3696.0), HTML(value='')))",
      "application/vnd.jupyter.widget-view+json": {
       "version_major": 2,
       "version_minor": 0,
       "model_id": "bc92e236eb5d489d922a783a6701ac77"
      }
     },
     "metadata": {}
    },
    {
     "output_type": "stream",
     "name": "stdout",
     "text": [
      "\n"
     ]
    },
    {
     "output_type": "display_data",
     "data": {
      "text/plain": "HBox(children=(HTML(value=''), FloatProgress(value=0.0, max=1344.0), HTML(value='')))",
      "application/vnd.jupyter.widget-view+json": {
       "version_major": 2,
       "version_minor": 0,
       "model_id": "30e08e9118bb4f2c8f02f73e51fe6784"
      }
     },
     "metadata": {}
    },
    {
     "output_type": "stream",
     "name": "stdout",
     "text": [
      "\n"
     ]
    }
   ],
   "source": [
    "train_input_tensors, train_output_tensors = make_dataset(train_file_name_set)\n",
    "test_input_tensors, test_output_tensors = make_dataset(test_file_name_set)"
   ]
  },
  {
   "cell_type": "code",
   "execution_count": 21,
   "metadata": {},
   "outputs": [],
   "source": [
    "train_input_tensors = train_input_tensors.bool()\n",
    "train_output_tensors = train_output_tensors.byte()\n",
    "test_input_tensors = test_input_tensors.bool()\n",
    "test_output_tensors = test_output_tensors.byte()"
   ]
  },
  {
   "cell_type": "code",
   "execution_count": 26,
   "metadata": {},
   "outputs": [],
   "source": [
    "perm_idx = torch.randperm(len(train_input_tensors))\n",
    "train_input_tensors = train_input_tensors[perm_idx]\n",
    "train_output_tensors = train_output_tensors[perm_idx]\n",
    "perm_idx = torch.randperm(len(test_input_tensors))\n",
    "test_input_tensors = test_input_tensors[perm_idx]\n",
    "test_output_tensors = test_output_tensors[perm_idx]\n",
    "train_dataset = torch.utils.data.TensorDataset(train_input_tensors[:360],train_output_tensors[:360])\n",
    "test_dataset = torch.utils.data.TensorDataset(test_input_tensors[:130],test_output_tensors[:130])"
   ]
  },
  {
   "cell_type": "code",
   "execution_count": 27,
   "metadata": {},
   "outputs": [],
   "source": [
    "torch.save({\"train\":train_dataset,\"test\":test_dataset},\"timit_processed_data_10_percent.pkl\")"
   ]
  },
  {
   "cell_type": "code",
   "execution_count": 17,
   "metadata": {},
   "outputs": [
    {
     "output_type": "execute_result",
     "data": {
      "text/plain": [
       "tensor([39, 39, 39,  ..., 62, 62, 62])"
      ]
     },
     "metadata": {},
     "execution_count": 17
    }
   ],
   "source": [
    "train_output_tensors[0]"
   ]
  },
  {
   "cell_type": "code",
   "execution_count": 164,
   "metadata": {},
   "outputs": [],
   "source": [
    "count = 0\n",
    "for id in train_file_name_set:\n",
    "    fname = train_file_name_set[id][\"phn\"]\n",
    "    with open(fname,\"r\") as fin:\n",
    "        a = len(fin.readlines())\n",
    "    # m = loadmat(fname)[\"binary_output\"]\n",
    "    # a = m.shape[1]\n",
    "    # if a > max:\n",
    "    #     max = a\n",
    "    count += a"
   ]
  },
  {
   "cell_type": "code",
   "execution_count": 168,
   "metadata": {},
   "outputs": [
    {
     "output_type": "execute_result",
     "data": {
      "text/plain": [
       "38.35679653679653"
      ]
     },
     "metadata": {},
     "execution_count": 168
    }
   ],
   "source": [
    "count / len(train_file_name_set) * 620 * 1600 / 10**6"
   ]
  },
  {
   "cell_type": "code",
   "execution_count": 155,
   "metadata": {},
   "outputs": [
    {
     "output_type": "execute_result",
     "data": {
      "text/plain": [
       "1514"
      ]
     },
     "metadata": {},
     "execution_count": 155
    }
   ],
   "source": [
    "max"
   ]
  },
  {
   "cell_type": "code",
   "execution_count": 6,
   "metadata": {},
   "outputs": [],
   "source": [
    "unique_set = set()\n",
    "for id in train_file_name_set:\n",
    "    with open(train_file_name_set[id]['phn'],'r') as fin:\n",
    "        lines = fin.readlines()\n",
    "    for line in lines:\n",
    "        s,e,p = line.split(' ')\n",
    "        p = p.strip()\n",
    "        unique_set.add(p)\n",
    "\n"
   ]
  },
  {
   "cell_type": "code",
   "execution_count": 7,
   "metadata": {},
   "outputs": [],
   "source": [
    "p2id = {k:i for i,k in enumerate(unique_set)}"
   ]
  },
  {
   "cell_type": "code",
   "execution_count": 124,
   "metadata": {},
   "outputs": [
    {
     "output_type": "execute_result",
     "data": {
      "text/plain": [
       "{'ch': 0,\n",
       " 'v': 1,\n",
       " 'ah': 2,\n",
       " 'pcl': 3,\n",
       " 't': 4,\n",
       " 'epi': 5,\n",
       " 'y': 6,\n",
       " 'p': 7,\n",
       " 'l': 8,\n",
       " 'w': 9,\n",
       " 'nx': 10,\n",
       " 's': 11,\n",
       " 'eng': 12,\n",
       " 'aw': 13,\n",
       " 'er': 14,\n",
       " 'q': 15,\n",
       " 'hh': 16,\n",
       " 'ih': 17,\n",
       " 'oy': 18,\n",
       " 'kcl': 19,\n",
       " 'ux': 20,\n",
       " 'el': 21,\n",
       " 'f': 22,\n",
       " 'aa': 23,\n",
       " 'th': 24,\n",
       " 'iy': 25,\n",
       " 'bcl': 26,\n",
       " 'tcl': 27,\n",
       " 'gcl': 28,\n",
       " 'k': 29,\n",
       " 'axr': 30,\n",
       " 'z': 31,\n",
       " 'n': 32,\n",
       " 'r': 33,\n",
       " 'eh': 34,\n",
       " 'd': 35,\n",
       " 'en': 36,\n",
       " 'sh': 37,\n",
       " 'jh': 38,\n",
       " 'ow': 39,\n",
       " 'dx': 40,\n",
       " 'pau': 41,\n",
       " 'ae': 42,\n",
       " 'ax-h': 43,\n",
       " 'hv': 44,\n",
       " 'ao': 45,\n",
       " 'ng': 46,\n",
       " 'ax': 47,\n",
       " 'zh': 48,\n",
       " 'b': 49,\n",
       " 'ay': 50,\n",
       " 'uw': 51,\n",
       " 'em': 52,\n",
       " 'm': 53,\n",
       " 'ey': 54,\n",
       " 'uh': 55,\n",
       " 'ix': 56,\n",
       " 'dh': 57,\n",
       " 'dcl': 58,\n",
       " 'h#': 59,\n",
       " 'g': 60}"
      ]
     },
     "metadata": {},
     "execution_count": 124
    }
   ],
   "source": [
    "p2id"
   ]
  },
  {
   "cell_type": "code",
   "execution_count": 75,
   "metadata": {},
   "outputs": [
    {
     "output_type": "execute_result",
     "data": {
      "text/plain": [
       "3696.0"
      ]
     },
     "metadata": {},
     "execution_count": 75
    }
   ],
   "source": [
    "len(train_set)/3"
   ]
  },
  {
   "cell_type": "code",
   "execution_count": 4,
   "metadata": {},
   "outputs": [],
   "source": [
    "import numpy as np\n",
    "path = \"N-MNIST/Test/0/00004.bin\"\n",
    "f = open(path, 'rb')\n",
    "raw_data = np.fromfile(f, dtype=np.uint8)\n",
    "f.close()"
   ]
  },
  {
   "cell_type": "code",
   "execution_count": 6,
   "metadata": {},
   "outputs": [],
   "source": [
    "import numpy as np\n",
    "class Events(object):\n",
    "    def __init__(self, num_events, width=304, height=240):\n",
    "        \"\"\"num_spikes: number of events this instance will initially contain\"\"\"\n",
    "        self.data = np.rec.array(None, dtype=[('x', np.uint16), ('y', np.uint16), ('p', np.bool_), ('ts', np.uint64)], shape=(num_events))\n",
    "        self.width = width\n",
    "        self.height = height\n",
    "\n",
    "def read_events(path):\n",
    "    # path = \"N-MNIST/Test/0/00004.bin\"\n",
    "    f = open(path, 'rb')\n",
    "    raw_data = np.fromfile(f, dtype=np.uint8)\n",
    "    f.close()\n",
    "\n",
    "    all_y = raw_data[1::5]\n",
    "    all_x = raw_data[0::5]\n",
    "    all_p = (raw_data[2::5] & 128) >> 7 #bit 7\n",
    "    all_ts = ((raw_data[2::5] & 127) << 16) | (raw_data[3::5] << 8) | (raw_data[4::5])\n",
    "    time_increment = 2 ** 13\n",
    "    overflow_indices = np.where(all_y == 240)[0]\n",
    "    for overflow_index in overflow_indices:\n",
    "        all_ts[overflow_index:] += time_increment\n",
    "\n",
    "    td_indices = np.where(all_y != 240)[0]\n",
    "\n",
    "    td = Events(td_indices.size, 34, 34)\n",
    "    td.data.x = all_x[td_indices]\n",
    "    td.width = td.data.x.max() + 1\n",
    "    td.data.y = all_y[td_indices]\n",
    "    td.height = td.data.y.max() + 1\n",
    "    td.data.ts = all_ts[td_indices]\n",
    "    td.data.p = all_p[td_indices]\n",
    "\n",
    "    return td\n"
   ]
  },
  {
   "cell_type": "code",
   "execution_count": 38,
   "metadata": {},
   "outputs": [
    {
     "output_type": "execute_result",
     "data": {
      "text/plain": [
       "array([ 69, 167,  65, ...,  81, 197,  49], dtype=uint64)"
      ]
     },
     "metadata": {},
     "execution_count": 38
    }
   ],
   "source": [
    "td.data.ts"
   ]
  },
  {
   "cell_type": "code",
   "execution_count": 8,
   "metadata": {},
   "outputs": [
    {
     "output_type": "execute_result",
     "data": {
      "text/plain": [
       "(5293,)"
      ]
     },
     "metadata": {},
     "execution_count": 8
    }
   ],
   "source": [
    "all_y.shape"
   ]
  },
  {
   "cell_type": "code",
   "execution_count": 15,
   "metadata": {},
   "outputs": [
    {
     "output_type": "execute_result",
     "data": {
      "text/plain": [
       "(5293,)"
      ]
     },
     "metadata": {},
     "execution_count": 15
    }
   ],
   "source": [
    "all_p.shape"
   ]
  },
  {
   "cell_type": "code",
   "execution_count": 19,
   "metadata": {
    "tags": []
   },
   "outputs": [
    {
     "output_type": "stream",
     "name": "stderr",
     "text": [
      "/home/nesa320/anaconda2/envs/contras_sum/lib/python3.6/site-packages/ipykernel_launcher.py:3: TqdmDeprecationWarning: This function will be removed in tqdm==5.0.0\nPlease use `tqdm.notebook.tqdm` instead of `tqdm.tqdm_notebook`\n  This is separate from the ipykernel package so we can avoid doing imports until\n"
     ]
    },
    {
     "output_type": "display_data",
     "data": {
      "text/plain": "HBox(children=(HTML(value=''), FloatProgress(value=1.0, bar_style='info', layout=Layout(width='20px'), max=1.0…",
      "application/vnd.jupyter.widget-view+json": {
       "version_major": 2,
       "version_minor": 0,
       "model_id": "b6aed395b06d459386911c7a2cf41d0f"
      }
     },
     "metadata": {}
    },
    {
     "output_type": "stream",
     "name": "stdout",
     "text": [
      "\n"
     ]
    }
   ],
   "source": [
    "\n",
    "        # print(full_name)\n",
    "        # label = int(d[-1])\n",
    "        # td = read_events(full_name)\n",
    "        # out = convertd2tensor(td)\n",
    "        # break\n",
    "        "
   ]
  },
  {
   "cell_type": "code",
   "execution_count": 25,
   "metadata": {},
   "outputs": [],
   "source": [
    "import torch\n",
    "def convertd2tensor(td):\n",
    "    max_time = 256\n",
    "    out_tensor = torch.ByteTensor(max_time,34*34)\n",
    "    for x,y,p,ts in zip(td.data.x,td.data.y,td.data.p,td.data.ts):\n",
    "        out_tensor[ts,y*34+x] = int(p)\n",
    "    return out_tensor\n",
    "    "
   ]
  },
  {
   "cell_type": "code",
   "execution_count": 1,
   "metadata": {},
   "outputs": [],
   "source": [
    "import tqdm\n",
    "import torch\n",
    "import numpy as np\n",
    "class Events(object):\n",
    "    def __init__(self, num_events, width=304, height=240):\n",
    "        \"\"\"num_spikes: number of events this instance will initially contain\"\"\"\n",
    "        self.data = np.rec.array(None, dtype=[('x', np.uint16), ('y', np.uint16), ('p', np.bool_), ('ts', np.uint64)], shape=(num_events))\n",
    "        self.width = width\n",
    "        self.height = height\n",
    "\n",
    "def read_events(path):\n",
    "    # path = \"N-MNIST/Test/0/00004.bin\"\n",
    "    f = open(path, 'rb')\n",
    "    raw_data = np.fromfile(f, dtype=np.uint8)\n",
    "    f.close()\n",
    "\n",
    "    all_y = raw_data[1::5]\n",
    "    all_x = raw_data[0::5]\n",
    "    all_p = (raw_data[2::5] & 128) >> 7 #bit 7\n",
    "    all_ts = ((raw_data[2::5] & 127) << 16) | (raw_data[3::5] << 8) | (raw_data[4::5])\n",
    "    time_increment = 2 ** 13\n",
    "    overflow_indices = np.where(all_y == 240)[0]\n",
    "    for overflow_index in overflow_indices:\n",
    "        all_ts[overflow_index:] += time_increment\n",
    "\n",
    "    td_indices = np.where(all_y != 240)[0]\n",
    "\n",
    "    td = Events(td_indices.size, 34, 34)\n",
    "    td.data.x = all_x[td_indices]\n",
    "    td.width = td.data.x.max() + 1\n",
    "    td.data.y = all_y[td_indices]\n",
    "    td.height = td.data.y.max() + 1\n",
    "    td.data.ts = all_ts[td_indices]\n",
    "    td.data.p = all_p[td_indices]\n",
    "\n",
    "    return td\n",
    "\n",
    "\n",
    "def convertd2tensor(td):\n",
    "    max_time = 256\n",
    "    out_tensor = torch.ByteTensor(max_time,34*34).fill_(0)\n",
    "    for x,y,p,ts in zip(td.data.x,td.data.y,td.data.p,td.data.ts):\n",
    "        out_tensor[ts,y*34+x] = int(p)\n",
    "    return out_tensor\n",
    "\n",
    "def make_dataset(split):\n",
    "# split = \"Test\"\n",
    "    f_list = []\n",
    "    for d,ds,fs in tqdm.tqdm_notebook(os.walk(\"N-MNIST/\"+split)):\n",
    "        for fname in fs:\n",
    "            full_name = d + '/' + fname\n",
    "            f_list.append(full_name)\n",
    "    print(len(f_list))\n",
    "    input_tensor = torch.ByteTensor(len(f_list),256,34*34)\n",
    "    y = torch.LongTensor(len(f_list))\n",
    "    i = 0\n",
    "    for f in tqdm.tqdm_notebook(f_list):\n",
    "        d,a = f.split(split)\n",
    "        label = int(a[1])\n",
    "        td = read_events(f)\n",
    "        input_tensor[i] = convertd2tensor(td)\n",
    "        y[i] = label\n",
    "        i += 1\n",
    "    dataset = torch.utils.data.TensorDataset(input_tensor,y)\n",
    "    return dataset\n",
    "\n",
    "    "
   ]
  },
  {
   "cell_type": "code",
   "execution_count": 2,
   "metadata": {
    "tags": []
   },
   "outputs": [
    {
     "output_type": "stream",
     "name": "stderr",
     "text": [
      "/home/nesa320/anaconda2/envs/contras_sum/lib/python3.6/site-packages/ipykernel_launcher.py:49: TqdmDeprecationWarning: This function will be removed in tqdm==5.0.0\nPlease use `tqdm.notebook.tqdm` instead of `tqdm.tqdm_notebook`\n"
     ]
    },
    {
     "output_type": "display_data",
     "data": {
      "text/plain": "HBox(children=(HTML(value=''), FloatProgress(value=1.0, bar_style='info', layout=Layout(width='20px'), max=1.0…",
      "application/vnd.jupyter.widget-view+json": {
       "version_major": 2,
       "version_minor": 0,
       "model_id": "3a4d477133bb4fbdbabd857acb9a8aa2"
      }
     },
     "metadata": {}
    },
    {
     "output_type": "stream",
     "name": "stdout",
     "text": [
      "\n",
      "60000\n",
      "/home/nesa320/anaconda2/envs/contras_sum/lib/python3.6/site-packages/ipykernel_launcher.py:57: TqdmDeprecationWarning: This function will be removed in tqdm==5.0.0\n",
      "Please use `tqdm.notebook.tqdm` instead of `tqdm.tqdm_notebook`\n"
     ]
    },
    {
     "output_type": "display_data",
     "data": {
      "text/plain": "HBox(children=(HTML(value=''), FloatProgress(value=0.0, max=60000.0), HTML(value='')))",
      "application/vnd.jupyter.widget-view+json": {
       "version_major": 2,
       "version_minor": 0,
       "model_id": "05015d42083b4b8d859d71cc14ea9551"
      }
     },
     "metadata": {}
    },
    {
     "output_type": "stream",
     "name": "stdout",
     "text": [
      "\n"
     ]
    },
    {
     "output_type": "display_data",
     "data": {
      "text/plain": "HBox(children=(HTML(value=''), FloatProgress(value=1.0, bar_style='info', layout=Layout(width='20px'), max=1.0…",
      "application/vnd.jupyter.widget-view+json": {
       "version_major": 2,
       "version_minor": 0,
       "model_id": "988ae94bb9cf4986b115c006e7124123"
      }
     },
     "metadata": {}
    },
    {
     "output_type": "stream",
     "name": "stdout",
     "text": [
      "\n10000\n"
     ]
    },
    {
     "output_type": "display_data",
     "data": {
      "text/plain": "HBox(children=(HTML(value=''), FloatProgress(value=0.0, max=10000.0), HTML(value='')))",
      "application/vnd.jupyter.widget-view+json": {
       "version_major": 2,
       "version_minor": 0,
       "model_id": "e56d242b87cb429b9d1f4270a1812024"
      }
     },
     "metadata": {}
    },
    {
     "output_type": "stream",
     "name": "stdout",
     "text": [
      "\n"
     ]
    }
   ],
   "source": [
    "train_dataset = make_dataset(\"Train\")\n",
    "test_dataset = make_dataset(\"Test\")"
   ]
  },
  {
   "cell_type": "code",
   "execution_count": 8,
   "metadata": {},
   "outputs": [],
   "source": [
    "torch.save([train_dataset, test_dataset],\"processed_n_mnist.pkl\")"
   ]
  },
  {
   "cell_type": "code",
   "execution_count": 6,
   "metadata": {},
   "outputs": [],
   "source": [
    "import torch\n",
    "train_dataset, test_dataset = torch.load(\"processed_n_mnist.pkl\")"
   ]
  },
  {
   "cell_type": "code",
   "execution_count": 13,
   "metadata": {},
   "outputs": [
    {
     "output_type": "execute_result",
     "data": {
      "text/plain": [
       "tensor(2495)"
      ]
     },
     "metadata": {},
     "execution_count": 13
    }
   ],
   "source": [
    "train_dataset[3][0].sum()"
   ]
  },
  {
   "cell_type": "code",
   "execution_count": 5,
   "metadata": {},
   "outputs": [
    {
     "output_type": "execute_result",
     "data": {
      "text/plain": [
       "tensor(2013)"
      ]
     },
     "metadata": {},
     "execution_count": 5
    }
   ],
   "source": [
    "train_dataset[0][0].sum()"
   ]
  },
  {
   "cell_type": "code",
   "execution_count": 20,
   "metadata": {},
   "outputs": [],
   "source": [
    "import torch\n",
    "train_dataset, test_dataset = torch.load(\"processed_n_mnist.pkl\")"
   ]
  },
  {
   "cell_type": "code",
   "execution_count": 4,
   "metadata": {},
   "outputs": [],
   "source": [
    "import torch\n",
    "acc = torch.load(\"log/lenet_conv_with_modified_actfun.pkl\")"
   ]
  },
  {
   "cell_type": "code",
   "execution_count": 5,
   "metadata": {},
   "outputs": [
    {
     "output_type": "execute_result",
     "data": {
      "text/plain": [
       "[79.4,\n",
       " 82.79,\n",
       " 86.05,\n",
       " 85.2,\n",
       " 86.11,\n",
       " 87.19,\n",
       " 86.64,\n",
       " 87.74,\n",
       " 88.11,\n",
       " 87.68,\n",
       " 87.75,\n",
       " 88.53,\n",
       " 89.01,\n",
       " 89.07,\n",
       " 89.16,\n",
       " 89.36,\n",
       " 88.72,\n",
       " 88.94,\n",
       " 89.32,\n",
       " 89.14,\n",
       " 89.27]"
      ]
     },
     "metadata": {},
     "execution_count": 5
    }
   ],
   "source": [
    "acc[\"acc\"]"
   ]
  }
 ]
}