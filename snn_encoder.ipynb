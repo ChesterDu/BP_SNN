{
 "metadata": {
  "language_info": {
   "codemirror_mode": {
    "name": "ipython",
    "version": 3
   },
   "file_extension": ".py",
   "mimetype": "text/x-python",
   "name": "python",
   "nbconvert_exporter": "python",
   "pygments_lexer": "ipython3",
   "version": "2.7.15-final"
  },
  "orig_nbformat": 2,
  "kernelspec": {
   "name": "python2",
   "display_name": "Python 2"
  }
 },
 "nbformat": 4,
 "nbformat_minor": 2,
 "cells": [
  {
   "cell_type": "code",
   "execution_count": 7,
   "metadata": {},
   "outputs": [],
   "source": [
    "from scipy.io import loadmat\n",
    "m = loadmat('TIDIGITS/tidigits_mfccs_train.mat')"
   ]
  },
  {
   "cell_type": "code",
   "execution_count": 43,
   "metadata": {},
   "outputs": [],
   "source": [
    "data = m[\"tidigits_mfccs_train\"]"
   ]
  },
  {
   "cell_type": "code",
   "execution_count": 123,
   "metadata": {},
   "outputs": [],
   "source": [
    "samples = data[0][0][6]\n",
    "labels = data[0][0][7]"
   ]
  },
  {
   "cell_type": "code",
   "execution_count": 125,
   "metadata": {},
   "outputs": [
    {
     "output_type": "execute_result",
     "data": {
      "text/plain": [
       "array([[0.0325, 0.0425, 0.0525, 0.0625, 0.0725, 0.0825, 0.0925, 0.1025,\n",
       "        0.1125, 0.1225, 0.1325, 0.1425, 0.1525, 0.1625, 0.1725, 0.1825,\n",
       "        0.1925, 0.2025, 0.2125, 0.2225, 0.2325, 0.2425, 0.2525, 0.2625,\n",
       "        0.2725, 0.2825, 0.2925, 0.3025, 0.3125, 0.3225, 0.3325, 0.3425,\n",
       "        0.3525, 0.3625, 0.3725, 0.3825, 0.3925, 0.4025, 0.4125, 0.4225,\n",
       "        0.4325, 0.4425, 0.4525, 0.4625, 0.4725, 0.4825, 0.4925, 0.5025,\n",
       "        0.5125, 0.5225, 0.5325, 0.5425, 0.5525, 0.5625, 0.5725, 0.5825,\n",
       "        0.5925, 0.6025, 0.6125, 0.6225, 0.6325, 0.6425, 0.6525, 0.6625,\n",
       "        0.6725, 0.6825, 0.6925, 0.7025, 0.7125, 0.7225, 0.7325, 0.7425,\n",
       "        0.7525, 0.7625, 0.7725, 0.7825, 0.7925, 0.8025, 0.8125, 0.8225]])"
      ]
     },
     "metadata": {},
     "execution_count": 125
    }
   ],
   "source": [
    "samples[0][0]"
   ]
  }
 ]
}